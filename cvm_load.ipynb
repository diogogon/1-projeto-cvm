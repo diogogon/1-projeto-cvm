{
 "cells": [
  {
   "cell_type": "code",
   "execution_count": 1,
   "metadata": {},
   "outputs": [],
   "source": [
    "import pandas as pd\n",
    "import os\n",
    "from sqlalchemy import create_engine\n",
    "import sqlalchemy\n",
    "import pyodbc"
   ]
  },
  {
   "cell_type": "code",
   "execution_count": 3,
   "metadata": {},
   "outputs": [],
   "source": [
    "# Definindo as credenciais do SQL Server\n",
    "server = 'DIOGO_ASUS'\n",
    "username = 'sa'\n",
    "password = 'diSQLSERVER' # Deve ser sem caracter especial\n",
    "database = 'CVM_DADOS' # Banco criado no SQL Server\n",
    "driver = 'ODBC+Driver+17+for+SQL+Server'  # Instalar o driver ODBC correto. Veja: pyodbc.drivers()\n",
    "\n",
    "# Criando a conexão com o SQL Server\n",
    "engine = create_engine(f'mssql+pyodbc://{username}:{password}@{server}/{database}?driver={driver}')\n",
    "\n",
    "# Lista de arquivos empilhados\n",
    "diretorio = \"C:/Users/diogo/OneDrive/PROJETOS/projeto-cvm/empilhado\"\n",
    "lista_arquivos = os.listdir(diretorio)\n",
    "\n",
    "for arquivo in lista_arquivos:\n",
    "    diretorio_arquivo = os.path.join(diretorio, arquivo)\n",
    "    dataframe = pd.read_csv(diretorio_arquivo)\n",
    "\n",
    "    # Definindo o nome da tabela no banco de dados\n",
    "    nome_tabela = arquivo.split('.')[0] # Retornaria duas colunas. Antes e depois do '.'\n",
    "\n",
    "    # Escrevendo o DataFrame para o SQL Server. Cria a tabela no banco.\n",
    "    dataframe.to_sql(nome_tabela, engine, \n",
    "                     index=False, \n",
    "                     if_exists='replace'\n",
    "                    )"
   ]
  }
 ],
 "metadata": {
  "kernelspec": {
   "display_name": "projetos-amb-virtual",
   "language": "python",
   "name": "python3"
  },
  "language_info": {
   "codemirror_mode": {
    "name": "ipython",
    "version": 3
   },
   "file_extension": ".py",
   "mimetype": "text/x-python",
   "name": "python",
   "nbconvert_exporter": "python",
   "pygments_lexer": "ipython3",
   "version": "3.12.2"
  }
 },
 "nbformat": 4,
 "nbformat_minor": 2
}
