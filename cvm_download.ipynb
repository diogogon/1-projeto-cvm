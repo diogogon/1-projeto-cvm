{
 "cells": [
  {
   "cell_type": "code",
   "execution_count": 12,
   "metadata": {},
   "outputs": [],
   "source": [
    "# Importação das bibliotecas\n",
    "\n",
    "import os # Manipulação de diretórios\n",
    "import requests # Download do .zip, status e código fonte\n",
    "import zipfile # Importar o pacote no jupyter para manipular arquivos .zip\n",
    "from datetime import date"
   ]
  },
  {
   "cell_type": "code",
   "execution_count": 5,
   "metadata": {},
   "outputs": [],
   "source": [
    "# Organização dos diretórios e URLs:\n",
    "\n",
    "# Diretório do Download:\n",
    "diretorio_download = \"C:/Users/diogo/OneDrive/PROJETOS/projeto-cvm/base\"\n",
    "\n",
    "# Diretório da extração:\n",
    "diretorio_extracao = \"C:/Users/diogo/OneDrive/PROJETOS/projeto-cvm/extracao\"\n",
    "\n",
    "if not os.path.exists(diretorio_download): # Se não houver o diretório, crie ele\n",
    "    os.makedirs(diretorio_download)\n",
    "\n",
    "if not os.path.exists(diretorio_extracao): # Se não houver o diretório, crie ele\n",
    "    os.makedirs(diretorio_extracao)\n",
    "\n",
    "# Range da base (10 anos):\n",
    "ano_atual = date.today().year\n",
    "lista_anos = list(range(ano_atual - 10, ano_atual))\n",
    "\n",
    "# URLs\n",
    "url_site = \"https://dados.cvm.gov.br/dados/CIA_ABERTA/DOC/\"\n",
    "\n",
    "# Conteúdo principal das demonstrações\n",
    "url_dfp_base = \"https://dados.cvm.gov.br/dados/CIA_ABERTA/DOC/DFP/DADOS/dfp_cia_aberta_\"\n",
    "\n",
    "# Dimensão de Controladoras, Controladas e Companhias\n",
    "url_vlmo_base = \"https://dados.cvm.gov.br/dados/CIA_ABERTA/DOC/VLMO/DADOS/vlmo_cia_aberta_\"\n",
    "\n",
    "# Auditores, UFs e Setor\n",
    "url_fca_base = \"https://dados.cvm.gov.br/dados/CIA_ABERTA/DOC/FCA/DADOS/fca_cia_aberta_\""
   ]
  },
  {
   "cell_type": "markdown",
   "metadata": {},
   "source": [
    "#### Download do conteúdo .zip da página HTML"
   ]
  },
  {
   "cell_type": "code",
   "execution_count": 6,
   "metadata": {},
   "outputs": [
    {
     "data": {
      "text/plain": [
       "200"
      ]
     },
     "execution_count": 6,
     "metadata": {},
     "output_type": "execute_result"
    }
   ],
   "source": [
    "# Etapa para capturar o status do acesso ao site\n",
    "\n",
    "permissao_site = requests.get(url_site)\n",
    "permissao_site.status_code"
   ]
  },
  {
   "cell_type": "code",
   "execution_count": 24,
   "metadata": {},
   "outputs": [],
   "source": [
    "\n",
    "# 200 OK: A solicitação foi bem-sucedida.\n",
    "# 301 Moved Permanently: A página foi movida permanentemente para uma nova localização.\n",
    "# 400 Bad Request: A solicitação do cliente é inválida.\n",
    "# 401 Unauthorized: O cliente deve se autenticar para obter a resposta solicitada.\n",
    "# 403 Forbidden: O cliente não tem permissão para acessar o recurso solicitado.\n",
    "# 404 Not Found: O recurso solicitado não foi encontrado no servidor.\n",
    "# 500 Internal Server Error: O servidor encontrou uma situação inesperada que o impediu de atender à solicitação.\n",
    "# 503 Service Unavailable: O servidor não está pronto para lidar com a solicitação devido a uma sobrecarga ou manutenção do servidor."
   ]
  },
  {
   "cell_type": "code",
   "execution_count": 7,
   "metadata": {},
   "outputs": [],
   "source": [
    "# Download do .zip no diretório:\n",
    "\n",
    "# Verifica a requisição ao site:\n",
    "if permissao_site.status_code == 200:\n",
    "\n",
    "    # Reservar o arquivo binário (wb) e preenchê-lo com os dados:\n",
    "    for valor in lista_anos:\n",
    "\n",
    "        # Conteúdo principal das demonstrações\n",
    "        url_dfp_arquivo = url_dfp_base + str(valor) + \".zip\"\n",
    "        conteudo_dfp_arquivo = requests.get(url_dfp_arquivo)\n",
    "        diretorio_dfp_arquivo_zip = os.path.join(diretorio_download, \"dfp_cia_aberta_\" + str(valor) + \".zip\")\n",
    "        \n",
    "        # Dimensão de Controladoras, Controladas e Companhias\n",
    "        url_vlmo_arquivo = url_vlmo_base + str(valor) + \".zip\"\n",
    "        conteudo_vlmo_arquivo = requests.get(url_vlmo_arquivo)\n",
    "        diretorio_vlmo_arquivo_zip = os.path.join(diretorio_download, \"vlmo_cia_aberta_\" + str(valor) + \".zip\")\n",
    "\n",
    "        # Auditores, UFs e Setor\n",
    "        url_fca_arquivo = url_fca_base + str(valor) + \".zip\"\n",
    "        conteudo_fca_arquivo = requests.get(url_fca_arquivo)\n",
    "        diretorio_fca_arquivo_zip = os.path.join(diretorio_download, \"fca_cia_aberta_\" + str(valor) + \".zip\")\n",
    "\n",
    "        # Mantém os arquivos em disco\n",
    "        with open(diretorio_dfp_arquivo_zip, \"wb\") as arquivo_zip_download: \n",
    "            arquivo_zip_download.write( conteudo_dfp_arquivo.content ) \n",
    "\n",
    "        with open(diretorio_vlmo_arquivo_zip, \"wb\") as arquivo_zip_download: \n",
    "            arquivo_zip_download.write( conteudo_vlmo_arquivo.content )\n",
    "\n",
    "        with open(diretorio_fca_arquivo_zip, \"wb\") as arquivo_zip_download: \n",
    "            arquivo_zip_download.write( conteudo_fca_arquivo.content )"
   ]
  },
  {
   "cell_type": "code",
   "execution_count": 16,
   "metadata": {},
   "outputs": [],
   "source": [
    "lista_zips = os.listdir(diretorio_download)\n",
    "\n",
    "# Extração do .zip\n",
    "\n",
    "for zip in lista_zips:\n",
    "    diretorio_extracao_arquivo = os.path.join(diretorio_download, zip)\n",
    "\n",
    "    try:\n",
    "        with zipfile.ZipFile(diretorio_extracao_arquivo, 'r') as zip_extraido:\n",
    "            zip_extraido.extractall(diretorio_extracao)\n",
    "    except zipfile.BadZipFile: # os arquivos vlmo não possuem um range de 10 anos e, por isso, os zips mais antigos estão vazios\n",
    "        continue"
   ]
  }
 ],
 "metadata": {
  "kernelspec": {
   "display_name": "projetos-amb-virtual",
   "language": "python",
   "name": "python3"
  },
  "language_info": {
   "codemirror_mode": {
    "name": "ipython",
    "version": 3
   },
   "file_extension": ".py",
   "mimetype": "text/x-python",
   "name": "python",
   "nbconvert_exporter": "python",
   "pygments_lexer": "ipython3",
   "version": "3.12.2"
  }
 },
 "nbformat": 4,
 "nbformat_minor": 2
}
