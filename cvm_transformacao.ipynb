{
 "cells": [
  {
   "cell_type": "code",
   "execution_count": 1,
   "metadata": {},
   "outputs": [],
   "source": [
    "import pandas as pd\n",
    "import os"
   ]
  },
  {
   "cell_type": "code",
   "execution_count": 9,
   "metadata": {},
   "outputs": [],
   "source": [
    "# os.rename('caminho_atual/arquivo_atual.txt', 'caminho_atual/novo_nome.txt')\n",
    "diretorio_arquivos = \"C:/Users/diogo/OneDrive/PROJETOS/projeto-cvm/extracao\"\n",
    "lista_arquivos = os.listdir(diretorio_arquivos)\n",
    "\n",
    "for nome in lista_arquivos: # Filtrar a lista de arquivos que contenham o tema 'dfp' para adicionar os links dos relatórios no dash\n",
    "    if len(nome) == 23 and 'dfp' in nome:\n",
    "        caminho_antigo = os.path.join(diretorio_arquivos, nome)\n",
    "        novo_nome = os.path.join(diretorio_arquivos, f\"link_{nome}\")\n",
    "        os.rename(caminho_antigo, novo_nome)\n",
    "\n",
    "    if len(nome) == 28 and 'vlmo' in nome:\n",
    "        caminho_antigo = os.path.join(diretorio_arquivos, nome)\n",
    "        novo_nome = os.path.join(diretorio_arquivos, f\"tipo_{nome}\")\n",
    "        os.rename(caminho_antigo, novo_nome)"
   ]
  },
  {
   "cell_type": "code",
   "execution_count": 10,
   "metadata": {},
   "outputs": [],
   "source": [
    "def lista_tema(tema):\n",
    "    diretorio_arquivos = \"C:/Users/diogo/OneDrive/PROJETOS/projeto-cvm/extracao\"\n",
    "    lista_arquivos = os.listdir(diretorio_arquivos)\n",
    "    diretorio_agregado = \"C:/Users/diogo/OneDrive/PROJETOS/projeto-cvm/empilhado\"\n",
    "\n",
    "    if not os.path.exists(diretorio_agregado):\n",
    "        os.makedirs(diretorio_agregado)\n",
    "\n",
    "    lista = []\n",
    "    nome_tema = tema\n",
    "\n",
    "    for nome in lista_arquivos: # Filtrar a lista de arquivos que contenham o tema\n",
    "        if nome_tema in nome:\n",
    "            lista.append(nome)\n",
    "\n",
    "    return lista"
   ]
  },
  {
   "cell_type": "code",
   "execution_count": 12,
   "metadata": {},
   "outputs": [],
   "source": [
    "lista = [\"DRE\", \"DFC\", \"parecer\", \"BPA\", \"BPP\", \"link\", \"tipo\", \"endereco\", \"auditor\", \"geral\"] \n",
    "diretorio_arquivos = \"C:/Users/diogo/OneDrive/PROJETOS/projeto-cvm/extracao\"\n",
    "diretorio_agregado = \"C:/Users/diogo/OneDrive/PROJETOS/projeto-cvm/empilhado\"\n",
    "\n",
    "\n",
    "for nome_lista in lista:\n",
    "    lista_filtrada = lista_tema(nome_lista)\n",
    "\n",
    "    df_tema = pd.DataFrame()\n",
    "\n",
    "    for nome in lista_filtrada:\n",
    "        arquivo_individual = pd.read_csv(os.path.join(diretorio_arquivos, nome), \n",
    "                            encoding=\"ANSI\", \n",
    "                            delimiter=\";\"\n",
    "                            )\n",
    "        if not arquivo_individual.empty:\n",
    "            df_tema = pd.concat([df_tema, arquivo_individual])\n",
    "\n",
    "    df_tema.to_csv(os.path.join(diretorio_agregado, f\"{nome_lista}.csv\"), index=False)"
   ]
  }
 ],
 "metadata": {
  "kernelspec": {
   "display_name": "projetos-amb-virtual",
   "language": "python",
   "name": "python3"
  },
  "language_info": {
   "codemirror_mode": {
    "name": "ipython",
    "version": 3
   },
   "file_extension": ".py",
   "mimetype": "text/x-python",
   "name": "python",
   "nbconvert_exporter": "python",
   "pygments_lexer": "ipython3",
   "version": "3.12.2"
  }
 },
 "nbformat": 4,
 "nbformat_minor": 2
}
